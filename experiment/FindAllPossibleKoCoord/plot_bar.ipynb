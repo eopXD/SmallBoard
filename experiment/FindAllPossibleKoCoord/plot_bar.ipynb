{
 "cells": [
  {
   "cell_type": "code",
   "execution_count": 29,
   "metadata": {},
   "outputs": [],
   "source": [
    "import matplotlib.pyplot as plt\n",
    "import numpy as np"
   ]
  },
  {
   "cell_type": "code",
   "execution_count": 23,
   "metadata": {},
   "outputs": [],
   "source": [
    "fourXfour = [19775\n",
    ",15324\n",
    ",16348\n",
    ",23960\n",
    ",18271\n",
    ",508\n",
    ",584\n",
    ",19091\n",
    ",19280\n",
    ",167\n",
    ",103\n",
    ",0\n",
    ",13896\n",
    ",2104\n",
    ",119\n",
    ",17470]"
   ]
  },
  {
   "cell_type": "code",
   "execution_count": 4,
   "metadata": {},
   "outputs": [],
   "source": [
    "fiveXfive = [334276930\n",
    ",266712106\n",
    ",129322142\n",
    ",254411053\n",
    ",347478782\n",
    ",267862740\n",
    ",7292196\n",
    ",16970456\n",
    ",7275276\n",
    ",322885220\n",
    ",144625549\n",
    ",18916627\n",
    ",17690440\n",
    ",29200461\n",
    ",135103223\n",
    ",310552928\n",
    ",7915423\n",
    ",9027019\n",
    ",3191705\n",
    ",1446516\n",
    ",310127304\n",
    ",174615185\n",
    ",15297063\n",
    ",3645861\n",
    ",338067706]"
   ]
  },
  {
   "cell_type": "code",
   "execution_count": 25,
   "metadata": {},
   "outputs": [
    {
     "data": {
      "text/plain": [
       "16"
      ]
     },
     "execution_count": 25,
     "metadata": {},
     "output_type": "execute_result"
    }
   ],
   "source": [
    "len(fourXfour)"
   ]
  },
  {
   "cell_type": "code",
   "execution_count": 40,
   "metadata": {},
   "outputs": [
    {
     "data": {
      "image/png": "[encoded data removed]",
      "text/plain": [
       "<Figure size 432x288 with 1 Axes>"
      ]
     },
     "metadata": {
      "needs_background": "light"
     },
     "output_type": "display_data"
    }
   ],
   "source": [
    "plt.xlabel('board ID')\n",
    "plt.ylabel('frequency')\n",
    "X = np.arange(16)\n",
    "plt.bar(X, fourXfour)\n",
    "plt.savefig('4x4_bar.png')"
   ]
  },
  {
   "cell_type": "code",
   "execution_count": 41,
   "metadata": {},
   "outputs": [
    {
     "data": {
      "image/png": "[encoded data removed]",
      "text/plain": [
       "<Figure size 432x288 with 1 Axes>"
      ]
     },
     "metadata": {
      "needs_background": "light"
     },
     "output_type": "display_data"
    }
   ],
   "source": [
    "plt.xlabel('board ID')\n",
    "plt.ylabel('frequency')\n",
    "X = np.arange(25)\n",
    "plt.bar(X, fiveXfive)\n",
    "plt.savefig('5x5_bar.png')"
   ]
  },
  {
   "cell_type": "code",
   "execution_count": null,
   "metadata": {},
   "outputs": [],
   "source": []
  }
 ],
 "metadata": {
  "kernelspec": {
   "display_name": "Python 3",
   "language": "python",
   "name": "python3"
  },
  "language_info": {
   "codemirror_mode": {
    "name": "ipython",
    "version": 3
   },
   "file_extension": ".py",
   "mimetype": "text/x-python",
   "name": "python",
   "nbconvert_exporter": "python",
   "pygments_lexer": "ipython3",
   "version": "3.6.7"
  }
 },
 "nbformat": 4,
 "nbformat_minor": 2
}
